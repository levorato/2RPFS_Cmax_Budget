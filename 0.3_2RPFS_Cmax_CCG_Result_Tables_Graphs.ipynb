{
 "cells": [
  {
   "cell_type": "markdown",
   "metadata": {},
   "source": [
    "## 2RPFS Problem (Cmax objective) - Tables and Graphs"
   ]
  },
  {
   "cell_type": "markdown",
   "metadata": {},
   "source": [
    "Before running this, notebook, please run notebooks 0.1 and 0.2 (in this order)."
   ]
  },
  {
   "cell_type": "code",
   "execution_count": null,
   "metadata": {},
   "outputs": [],
   "source": [
    "import pandas as pd\n",
    "import numpy as np\n",
    "import os, fnmatch\n",
    "import matplotlib.pyplot as plt\n",
    "import matplotlib.dates as mdates\n",
    "import warnings\n",
    "warnings.filterwarnings('ignore')\n",
    "warnings.filterwarnings('ignore', category=DeprecationWarning)\n",
    "import glob\n",
    "import seaborn as sns\n",
    "\n",
    "%matplotlib inline"
   ]
  },
  {
   "cell_type": "code",
   "execution_count": null,
   "metadata": {},
   "outputs": [],
   "source": [
    "import sys\n",
    "if sys.version_info[0] < 3: \n",
    "    from StringIO import StringIO\n",
    "else:\n",
    "    from io import StringIO"
   ]
  },
  {
   "cell_type": "markdown",
   "metadata": {},
   "source": [
    "### List files in the result folder "
   ]
  },
  {
   "cell_type": "code",
   "execution_count": null,
   "metadata": {},
   "outputs": [],
   "source": [
    "resultfolder = os.path.join(os.getcwd(), 'results', 'consolidated')\n",
    "rpfs_file = os.path.join(resultfolder, '2RPFS_Cmax_all_results.csv')\n",
    "det_file = os.path.join(resultfolder, 'PFSP_Cmax_deterministic_all_results.csv')"
   ]
  },
  {
   "cell_type": "markdown",
   "metadata": {},
   "source": [
    "### Create the output folder "
   ]
  },
  {
   "cell_type": "code",
   "execution_count": null,
   "metadata": {},
   "outputs": [],
   "source": [
    "outputfolder = os.path.join(os.getcwd(), 'results', 'consolidated')\n",
    "if not os.path.exists(outputfolder):\n",
    "    os.makedirs(outputfolder)\n",
    "print('Saving files on folder: ' + outputfolder)"
   ]
  },
  {
   "cell_type": "markdown",
   "metadata": {},
   "source": [
    "### Process consolidated CSV result files"
   ]
  },
  {
   "cell_type": "code",
   "execution_count": null,
   "metadata": {},
   "outputs": [],
   "source": [
    "df_rpfs = pd.read_csv(rpfs_file, delimiter=';')\n",
    "df_dpfs = pd.read_csv(det_file, delimiter=';')\n",
    "df_rpfs.drop(columns=['executionId'], inplace=True)\n",
    "df_dpfs.drop(columns=['executionId'], inplace=True)"
   ]
  },
  {
   "cell_type": "code",
   "execution_count": null,
   "metadata": {},
   "outputs": [],
   "source": [
    "df_rpfs['time_limit'] = 7200.0\n",
    "df_rpfs['time'] = np.minimum(df_rpfs['time_spent'], df_rpfs['time_limit'])\n",
    "df_rpfs['gap'] = df_rpfs['gap'] * 100\n",
    "df_rpfs['worstcase_cost'] = df_rpfs['cmax_dp']"
   ]
  },
  {
   "cell_type": "code",
   "execution_count": null,
   "metadata": {},
   "outputs": [],
   "source": [
    "df_rpfs_wagner = df_rpfs[(df_rpfs['model'] == 'Wagner')]\n",
    "df_rpfs_wilson = df_rpfs[(df_rpfs['model'] == 'Wilson')]"
   ]
  },
  {
   "cell_type": "code",
   "execution_count": null,
   "metadata": {},
   "outputs": [],
   "source": [
    "df_rpfs[['time', 'time_spent']]"
   ]
  },
  {
   "cell_type": "code",
   "execution_count": null,
   "metadata": {},
   "outputs": [],
   "source": [
    "df_dpfs.info()"
   ]
  },
  {
   "cell_type": "markdown",
   "metadata": {},
   "source": [
    "Now, lets join the `rpfs` dataframe with itself (inner join). This will be useful to compare Wilson and Wagner models."
   ]
  },
  {
   "cell_type": "code",
   "execution_count": null,
   "metadata": {},
   "outputs": [],
   "source": [
    "join_columns = ['n', 'm', 'alpha', 'instance_name', 'Gamma1', 'Gamma2']\n",
    "df_joined = pd.merge(df_rpfs, df_rpfs, how='inner', on=join_columns)\n",
    "df_joined = df_joined[(df_joined['model_x'] != df_joined['model_y'])]"
   ]
  },
  {
   "cell_type": "code",
   "execution_count": null,
   "metadata": {},
   "outputs": [],
   "source": [
    "df_joined"
   ]
  },
  {
   "cell_type": "markdown",
   "metadata": {},
   "source": [
    "# Tables"
   ]
  },
  {
   "cell_type": "markdown",
   "metadata": {},
   "source": [
    "## Table 1. Average worst-case Cmax Wagner "
   ]
  },
  {
   "cell_type": "code",
   "execution_count": null,
   "metadata": {},
   "outputs": [],
   "source": [
    "table = pd.pivot_table(df_rpfs_wagner, values='cmax_dp', index=['Gamma1', 'Gamma2'], columns=['alpha', 'n'], aggfunc='mean', fill_value=0)\n",
    "with pd.option_context('display.max_rows', None, 'display.max_columns', None): \n",
    "    display(table)"
   ]
  },
  {
   "cell_type": "markdown",
   "metadata": {},
   "source": [
    "## Table 2. Average run time Wagner robust model"
   ]
  },
  {
   "cell_type": "code",
   "execution_count": null,
   "metadata": {},
   "outputs": [],
   "source": [
    "table = pd.pivot_table(df_rpfs_wagner, values='time', index=['Gamma1', 'Gamma2'], columns=['alpha', 'n'], aggfunc='mean', fill_value=0)\n",
    "table = np.round(table, 2)\n",
    "with pd.option_context('display.max_rows', None, 'display.max_columns', None): \n",
    "    display(table)"
   ]
  },
  {
   "cell_type": "markdown",
   "metadata": {},
   "source": [
    "## Table 3. Performance all instances "
   ]
  },
  {
   "cell_type": "code",
   "execution_count": null,
   "metadata": {},
   "outputs": [],
   "source": [
    "df_joined['x_wins_y_time'] = (df_joined['time_x'] < df_joined['time_y']).astype(int)"
   ]
  },
  {
   "cell_type": "code",
   "execution_count": null,
   "metadata": {},
   "outputs": [],
   "source": []
  },
  {
   "cell_type": "code",
   "execution_count": null,
   "metadata": {},
   "outputs": [],
   "source": [
    "table = pd.pivot_table(df_joined, columns=['n', 'model_x'], values=['time_x', 'gap_x', 'iterations_x', 'x_wins_y_time'],\n",
    "                       aggfunc={'time_x' : ['mean', 'std'], 'gap_x' : 'mean', 'iterations_x' : ['mean', 'std'],\n",
    "                               'x_wins_y_time' : ['sum']})  # , margins=True, fill_value=0)\n",
    "table['perc_x_wins_y_time'] = table['x_wins_y_time'] * 100 / 1250\n",
    "with pd.option_context('display.max_rows', None, 'display.max_columns', None): \n",
    "    display(table)"
   ]
  },
  {
   "cell_type": "code",
   "execution_count": null,
   "metadata": {},
   "outputs": [],
   "source": []
  },
  {
   "cell_type": "code",
   "execution_count": null,
   "metadata": {},
   "outputs": [],
   "source": []
  },
  {
   "cell_type": "code",
   "execution_count": null,
   "metadata": {},
   "outputs": [],
   "source": []
  },
  {
   "cell_type": "code",
   "execution_count": null,
   "metadata": {},
   "outputs": [],
   "source": []
  },
  {
   "cell_type": "code",
   "execution_count": null,
   "metadata": {},
   "outputs": [],
   "source": [
    "df_grouped = df.groupby(['alpha', 'n', 'm', 'budget_Gamma']).agg({'executionId' : ['count']}).reset_index()\n",
    "df_grouped.columns = [ ' '.join(str(i) for i in col) for col in df_grouped.columns]\n",
    "#df_grouped.reset_index(inplace=True)\n",
    "df_grouped"
   ]
  },
  {
   "cell_type": "code",
   "execution_count": null,
   "metadata": {},
   "outputs": [],
   "source": [
    "table = pd.pivot_table(df, values='executionId', index=['alpha', 'n'], columns=['Gamma1', 'Gamma2'], aggfunc='count', fill_value=0)\n",
    "with pd.option_context('display.max_rows', None, 'display.max_columns', None): \n",
    "    display(table)"
   ]
  },
  {
   "cell_type": "markdown",
   "metadata": {},
   "source": [
    "# Graphs"
   ]
  },
  {
   "cell_type": "markdown",
   "metadata": {},
   "source": [
    "### Build a dataframe joining the `df_rpfs` and `df_dpfs`"
   ]
  },
  {
   "cell_type": "code",
   "execution_count": null,
   "metadata": {},
   "outputs": [],
   "source": [
    "join_columns = ['n', 'm', 'alpha', 'instance_name', 'Gamma1', 'Gamma2']\n",
    "df_det_d0 = df_dpfs[(df_dpfs['perc_deviation_p_bar'] == 0)]\n",
    "df_det_d100 = df_dpfs[(df_dpfs['perc_deviation_p_bar'] == 100)]\n",
    "# join robust and deterministic dfs\n",
    "df_join_rob_det = pd.merge(df_rpfs, df_det_d0, how='inner', on=join_columns, suffixes=('_rob', '_d0'))\n",
    "df_join_rob_det = pd.merge(df_rob_det, df_det_d100, how='inner', on=join_columns, suffixes=('_d0', '_d100'))"
   ]
  },
  {
   "cell_type": "markdown",
   "metadata": {},
   "source": [
    "### Build a dataframe concatenating `df_rpfs` and `df_dpfs`"
   ]
  },
  {
   "cell_type": "code",
   "execution_count": null,
   "metadata": {},
   "outputs": [],
   "source": [
    "def plot_worstcase_comparison(instance_name, df_dict):\n",
    "    concat_columns = ['instance_name', 'Gamma1', 'Gamma2', 'budget_Gamma', 'worstcase_cost']\n",
    "    for key, df_i in df_dict.items():\n",
    "        df_i = df_i[concat_columns]\n",
    "        df_i['Method'] = key\n",
    "        df_dict[key] = df_i\n",
    "    df = pd.concat(df_dict.values())\n",
    "    df = df[(df['instance_name'] == instance_name)]\n",
    "    # https://www.drawingfromdata.com/setting-figure-size-using-seaborn-and-matplotlib\n",
    "    #fig, ax = plt.subplots()\n",
    "    # the size of A4 paper\n",
    "    #fig.set_size_inches(11.7, 8.27)\n",
    "    marker = ['o', 'x', '^', '+', '*', '8', 's', 'p', 'D', 'V']\n",
    "    markers = [marker[i] for i in range(len(df[\"Method\"].unique()))]\n",
    "    linestyle = ['--', '-.', ':', ' ', '', 'solid', 'dashed', 'dashdot', 'dotted', '-']\n",
    "    linestyles = [linestyle[i] for i in range(len(df[\"Method\"].unique()))]\n",
    "    a4_dims = (11.7, 8.27)\n",
    "    plt.figure(figsize=a4_dims)\n",
    "    sns.catplot(x=\"budget_Gamma\", y=\"worstcase_cost\",  markers=markers, linestyles=linestyles,\n",
    "                 hue=\"Method\", kind=\"point\", style=\"Method\", \n",
    "                 data=df,\n",
    "                 height=5, # make the plot 5 units high\n",
    "                 aspect=3) # height should be three times width\n",
    "    plt.show()\n",
    "    plt.savefig(os.path.join(outputfolder, '{}.svg'.format(instance_name)))"
   ]
  },
  {
   "cell_type": "markdown",
   "metadata": {},
   "source": [
    "### Worstcase cost : Small Uncertainty Range Instance - Example "
   ]
  },
  {
   "cell_type": "markdown",
   "metadata": {},
   "source": [
    "Alpha = 10% and n = 50"
   ]
  },
  {
   "cell_type": "code",
   "execution_count": null,
   "metadata": {},
   "outputs": [],
   "source": [
    "filename = 'RB0501003.txt'  # Small Uncertainty range\n",
    "#filename = 'RB0201007.txt'\n",
    "#filename = 'RB0105010.txt'  # Large Uncertainty range\n",
    "plot_worstcase_comparison(filename, {'Det_d0' : df_det_d0, 'Det_d100' : df_det_d100, 'Rob' : df_rpfs_wagner})"
   ]
  },
  {
   "cell_type": "markdown",
   "metadata": {},
   "source": [
    "### Worstcase cost : Large Uncertainty Range Instance - Example "
   ]
  },
  {
   "cell_type": "markdown",
   "metadata": {},
   "source": [
    "Alpha = 50% and n = 10"
   ]
  },
  {
   "cell_type": "code",
   "execution_count": null,
   "metadata": {},
   "outputs": [],
   "source": [
    "filename = 'RB0105010.txt'  # Large Uncertainty range\n",
    "plot_worstcase_comparison(filename, {'Det_d0' : df_det_d0, 'Det_d100' : df_det_d100, 'Rob' : df_rpfs_wagner})"
   ]
  },
  {
   "cell_type": "code",
   "execution_count": null,
   "metadata": {},
   "outputs": [],
   "source": []
  },
  {
   "cell_type": "code",
   "execution_count": null,
   "metadata": {},
   "outputs": [],
   "source": []
  },
  {
   "cell_type": "markdown",
   "metadata": {},
   "source": [
    "### Export the dataset to CSV file "
   ]
  },
  {
   "cell_type": "code",
   "execution_count": null,
   "metadata": {},
   "outputs": [],
   "source": [
    "%%time\n",
    "\n",
    "print('Saving file on folder: ' + rootfolder)\n",
    "fname = os.path.join(rootfolder, '2RPFS_Cmax_all_results.csv')\n",
    "df.to_csv(fname, sep=';')\n",
    "print('Saved: ' + fname)"
   ]
  },
  {
   "cell_type": "code",
   "execution_count": null,
   "metadata": {},
   "outputs": [],
   "source": []
  }
 ],
 "metadata": {
  "kernelspec": {
   "display_name": "Python 3",
   "language": "python",
   "name": "python3"
  },
  "language_info": {
   "codemirror_mode": {
    "name": "ipython",
    "version": 3
   },
   "file_extension": ".py",
   "mimetype": "text/x-python",
   "name": "python",
   "nbconvert_exporter": "python",
   "pygments_lexer": "ipython3",
   "version": "3.7.6"
  }
 },
 "nbformat": 4,
 "nbformat_minor": 4
}
