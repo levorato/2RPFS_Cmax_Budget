{
 "cells": [
  {
   "cell_type": "markdown",
   "metadata": {},
   "source": [
    "## SimGRASP (Cmax objective) - Create experiment files for Ying instances"
   ]
  },
  {
   "cell_type": "code",
   "execution_count": null,
   "metadata": {},
   "outputs": [],
   "source": [
    "import pandas as pd\n",
    "import numpy as np\n",
    "import os, fnmatch\n",
    "import matplotlib.pyplot as plt\n",
    "import matplotlib.dates as mdates\n",
    "import warnings\n",
    "warnings.filterwarnings('ignore')\n",
    "warnings.filterwarnings('ignore', category=DeprecationWarning)\n",
    "import glob\n",
    "import os\n",
    "\n",
    "%matplotlib inline"
   ]
  },
  {
   "cell_type": "code",
   "execution_count": null,
   "metadata": {},
   "outputs": [],
   "source": [
    "import sys\n",
    "if sys.version_info[0] < 3: \n",
    "    from StringIO import StringIO\n",
    "else:\n",
    "    from io import StringIO"
   ]
  },
  {
   "cell_type": "markdown",
   "metadata": {},
   "source": [
    "### List Ying instance files in the instance folder"
   ]
  },
  {
   "cell_type": "code",
   "execution_count": null,
   "metadata": {},
   "outputs": [],
   "source": [
    "rootfolder = os.getcwd()\n",
    "searchpath = os.path.join(rootfolder, 'instances', 'robust', 'ying', 'tail_format', '*.txt')\n",
    "display(searchpath)\n",
    "file_list = glob.glob(searchpath, recursive=False)\n",
    "file_list"
   ]
  },
  {
   "cell_type": "markdown",
   "metadata": {},
   "source": [
    "### Function to export the experiment dataframe to text delimited file "
   ]
  },
  {
   "cell_type": "code",
   "execution_count": null,
   "metadata": {},
   "outputs": [],
   "source": [
    "def export_instance_dataframe(df, distribution, variance, nruns):\n",
    "    outputfolder = os.path.join(rootfolder, 'experiments', 'simgrasp', distribution)\n",
    "    if not os.path.exists(outputfolder):\n",
    "        os.makedirs(outputfolder)\n",
    "    print('Saving file on folder: ' + outputfolder)\n",
    "    fname = os.path.join(outputfolder, 'tests2run_stoc_ying_{}_var{}_{}runs.txt'.format(distribution, variance, nruns))\n",
    "    with open(fname, 'w') as file_buff:\n",
    "        if distribution == 'triangular' or distribution == 'uniform':\n",
    "            # uniform and triangular distributions do not need the beta1 parameter\n",
    "            file_buff.write('# instance | maxTime(sec)(not used) | nIter(not used) | distribution | beta1 (not used) | Variance | seed\\r\\n')\n",
    "        elif distribution == 'geometric':\n",
    "            file_buff.write('#instance maxTime(sec) nIter distribution beta1 beta2 seed\\r\\n')\n",
    "        df.to_csv(file_buff, sep='\\t', header=False, index=False)\n",
    "    print('Saved: ' + fname)"
   ]
  },
  {
   "cell_type": "markdown",
   "metadata": {},
   "source": [
    "### Process all instance filenames and append all data to a single dataframe"
   ]
  },
  {
   "cell_type": "markdown",
   "metadata": {},
   "source": [
    "Each Ying instance file will be executed 25 times by the SimGRASP algorithm : `nruns = 25`."
   ]
  },
  {
   "cell_type": "code",
   "execution_count": null,
   "metadata": {},
   "outputs": [],
   "source": [
    "%%time\n",
    "\n",
    "# # instance | maxTime(sec)(not used) | nIter(not used) | distribution (not used)| beta1 (not used) | Variance | seed\n",
    "nruns = 25\n",
    "for distribution in ['triangular']:  # distribution used inside SimGRASP NEHT procedure : triangular\n",
    "    for variance in [0.1, 0.2, 0.3, 0.4, 0.5]: # The SimGRASP algorithm will need variance value as the uncertainty parameter\n",
    "        instance_list = []\n",
    "        for filename in file_list:\n",
    "            instance = filename[filename.rfind(os.path.sep)+1:filename.rfind('_')]\n",
    "            n = int(instance[2:5])\n",
    "            alpha = int(instance[5:7])\n",
    "            sequence = int(instance[7:9])\n",
    "            # Regardless of the alpha value, the Ying instances we are dealing with have the same nominal (expected) processing times\n",
    "            if alpha == 50:  # We will only use the nominal processing times to feed the SimGRASP algorithm\n",
    "                #print('Processing instance ', instance, 'n = {}, alpha = {}, seq = {}'.format(n, alpha, sequence))\n",
    "                for r in range(1, nruns+1):\n",
    "                    # We need a differnt random seed for each run\n",
    "                    str_seed = str(int.from_bytes(os.urandom(4), 'big'))\n",
    "                    seed = int(str_seed[:6])\n",
    "                    # Parameters maxTime and nIter are never used (SimGRASP calculates maxTime based on timeFactor and n)\n",
    "                    if distribution == 'geometric':\n",
    "                        beta1 = 0.1  # this is the same beta1 parameter of geom distr, used in SimGRASP paper\n",
    "                        instance_list.append([instance, 1, 100000, distribution[0], beta1, variance, seed])\n",
    "                    else:  # uniform and triangular distributions do not need the beta1 parameter\n",
    "                        instance_list.append([instance, 1, 100000, distribution[0], 1, variance, seed])\n",
    "        df = pd.DataFrame(instance_list, columns=['instance', 'maxTime(sec)', 'nIter', 'distribution', 'beta1', 'beta2', 'seed'])\n",
    "        export_instance_dataframe(df, distribution, variance, nruns)"
   ]
  },
  {
   "cell_type": "code",
   "execution_count": null,
   "metadata": {},
   "outputs": [],
   "source": [
    "df"
   ]
  },
  {
   "cell_type": "code",
   "execution_count": null,
   "metadata": {},
   "outputs": [],
   "source": [
    "df.info()"
   ]
  },
  {
   "cell_type": "code",
   "execution_count": null,
   "metadata": {},
   "outputs": [],
   "source": []
  }
 ],
 "metadata": {
  "kernelspec": {
   "display_name": "Python 3",
   "language": "python",
   "name": "python3"
  },
  "language_info": {
   "codemirror_mode": {
    "name": "ipython",
    "version": 3
   },
   "file_extension": ".py",
   "mimetype": "text/x-python",
   "name": "python",
   "nbconvert_exporter": "python",
   "pygments_lexer": "ipython3",
   "version": "3.7.6"
  }
 },
 "nbformat": 4,
 "nbformat_minor": 4
}
